{
  "nbformat": 4,
  "nbformat_minor": 0,
  "metadata": {
    "colab": {
      "name": "Data preparation subj 1.ipynb",
      "version": "0.3.2",
      "provenance": [],
      "include_colab_link": true
    },
    "kernelspec": {
      "name": "python2",
      "display_name": "Python 2"
    },
    "accelerator": "GPU"
  },
  "cells": [
    {
      "cell_type": "markdown",
      "metadata": {
        "id": "view-in-github",
        "colab_type": "text"
      },
      "source": [
        "[View in Colaboratory](https://colab.research.google.com/github/Angordil/Analisis-de-registros-de-EEG-mediante-redes-neuronales/blob/master/Data_preparation_for_1_subject.ipynb)"
      ]
    },
    {
      "metadata": {
        "id": "iOyVkn2J6CIc",
        "colab_type": "code",
        "colab": {}
      },
      "cell_type": "code",
      "source": [
        "!apt-get install -y -qq software-properties-common python-software-properties module-init-tools\n",
        "!add-apt-repository -y ppa:alessandro-strada/ppa 2>&1 > /dev/null\n",
        "!apt-get update -qq 2>&1 > /dev/null\n",
        "!apt-get -y install -qq google-drive-ocamlfuse fuse\n",
        "from google.colab import auth\n",
        "auth.authenticate_user()\n",
        "from oauth2client.client import GoogleCredentials\n",
        "creds = GoogleCredentials.get_application_default()\n",
        "import getpass\n",
        "!google-drive-ocamlfuse -headless -id={creds.client_id} -secret={creds.client_secret} < /dev/null 2>&1 | grep URL\n",
        "vcode = getpass.getpass()\n",
        "!echo {vcode} | google-drive-ocamlfuse -headless -id={creds.client_id} -secret={creds.client_secret}"
      ],
      "execution_count": 0,
      "outputs": []
    },
    {
      "metadata": {
        "id": "vGUuh6U86VnO",
        "colab_type": "code",
        "colab": {}
      },
      "cell_type": "code",
      "source": [
        "!mkdir -p drive\n",
        "!google-drive-ocamlfuse drive"
      ],
      "execution_count": 0,
      "outputs": []
    },
    {
      "metadata": {
        "id": "Qpjgdpx06c3a",
        "colab_type": "code",
        "colab": {}
      },
      "cell_type": "code",
      "source": [
        "!pip install -q keras"
      ],
      "execution_count": 0,
      "outputs": []
    },
    {
      "metadata": {
        "id": "KAMXpJL86fQZ",
        "colab_type": "code",
        "colab": {}
      },
      "cell_type": "code",
      "source": [
        "# Load data \n",
        "\n",
        "from scipy.io import loadmat\n",
        "\n",
        "subject = loadmat('drive/TFG/data/S1.mat')\n",
        "   \n",
        "subject\n",
        "\n",
        "# Inspect the EEG data for the first trial of the first subject:\n",
        "\n",
        "X_training = subject['X_2D']\n",
        "print(X_training.shape)\n",
        "\n",
        "get_ipython().run_line_magic('matplotlib','inline')\n",
        "\n",
        "import matplotlib.pyplot as plt\n",
        "\n",
        "N = 32\n",
        "plt.plot(X_training[:N])\n",
        "plt.title(\"EEG Reading: Electrode 1, Trial 1, Subject 1\")\n",
        "\n",
        "import numpy as np\n",
        "\n",
        "electrodes = 124\n",
        "trial_image = np.reshape(X_training, (electrodes, N))\n",
        "plt.imshow(trial_image, cmap = 'hot', interpolation = 'nearest')\n",
        "\n",
        "# ### Data Preparation\n",
        "\n",
        "y_training = subject['categoryLabels'][0]\n",
        "\n",
        "# Double-check number of trials equals number of target output labels \n",
        "\n",
        "print(len(X_training),len(y_training))\n",
        "print(y_training)\n",
        "\n",
        "print X_training.shape\n",
        "\n",
        "len(X_training)\n",
        "\n",
        "# Validation set will be defined when model.fit is done. It'll be a 10% of the training data\n",
        "\n",
        "## 1-Hot Encode Target Output Labels\n",
        "import tensorflow\n",
        "from tensorflow import keras\n",
        "from tensorflow.python.keras import utils \n",
        "\n",
        "num_classes = 6\n",
        "\n",
        "y_training1hot = utils.to_categorical(y_training - 1 , num_classes)\n",
        "\n",
        "print y_training1hot.shape\n",
        "\n",
        "# Reshape training set\n",
        "\n",
        "X_training = np.reshape(X_training,(-1, electrodes, N,1))\n",
        "print X_training.shape\n",
        "\n",
        "# Save set\n",
        "\n",
        "np.save('drive/TFG/Trial only with subject 1/Datos/X_training', X_training)\n",
        "np.save('drive/TFG/Trial only with subject 1/Datos/y_training1hot', y_training1hot)\n",
        "np.save('drive/TFG/Trial only with subject 1/Datos/y_training', y_training)\n"
      ],
      "execution_count": 0,
      "outputs": []
    }
  ]
}