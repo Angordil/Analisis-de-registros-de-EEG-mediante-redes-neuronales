{
  "nbformat": 4,
  "nbformat_minor": 0,
  "metadata": {
    "colab": {
      "name": "Data preparation.ipynb",
      "version": "0.3.2",
      "provenance": [],
      "include_colab_link": true
    },
    "kernelspec": {
      "name": "python2",
      "display_name": "Python 2"
    },
    "accelerator": "GPU"
  },
  "cells": [
    {
      "cell_type": "markdown",
      "metadata": {
        "id": "view-in-github",
        "colab_type": "text"
      },
      "source": [
        "[View in Colaboratory](https://colab.research.google.com/github/Angordil/Analisis-de-registros-de-EEG-mediante-redes-neuronales/blob/master/Data_preparation_All_subjects.ipynb)"
      ]
    },
    {
      "metadata": {
        "id": "kWpo7ODPp9t9",
        "colab_type": "code",
        "colab": {}
      },
      "cell_type": "code",
      "source": [
        "!apt-get install -y -qq software-properties-common python-software-properties module-init-tools\n",
        "!wget https://launchpad.net/~alessandro-strada/+archive/ubuntu/google-drive-ocamlfuse-beta/+build/15331130/+files/google-drive-ocamlfuse_0.7.0-0ubuntu1_amd64.deb\n",
        "!dpkg -i google-drive-ocamlfuse_0.7.0-0ubuntu1_amd64.deb\n",
        "!apt-get install -f\n",
        "!apt-get -y install -qq fuse\n",
        "from google.colab import auth\n",
        "auth.authenticate_user()\n",
        "from oauth2client.client import GoogleCredentials\n",
        "creds = GoogleCredentials.get_application_default()\n",
        "import getpass\n",
        "!google-drive-ocamlfuse -headless -id={creds.client_id} -secret={creds.client_secret} < /dev/null 2>&1 | grep URL\n",
        "vcode = getpass.getpass()\n",
        "!echo {vcode} | google-drive-ocamlfuse -headless -id={creds.client_id} -secret={creds.client_secret}"
      ],
      "execution_count": 0,
      "outputs": []
    },
    {
      "metadata": {
        "id": "2DF46khjqD9T",
        "colab_type": "code",
        "colab": {}
      },
      "cell_type": "code",
      "source": [
        "!mkdir -p drive\n",
        "!google-drive-ocamlfuse drive"
      ],
      "execution_count": 0,
      "outputs": []
    },
    {
      "metadata": {
        "id": "F6EHNLqoqEdc",
        "colab_type": "code",
        "colab": {}
      },
      "cell_type": "code",
      "source": [
        "!pip install -q keras"
      ],
      "execution_count": 0,
      "outputs": []
    },
    {
      "metadata": {
        "id": "KUBozEUJqG6y",
        "colab_type": "code",
        "colab": {}
      },
      "cell_type": "code",
      "source": [
        "#!/usr/bin/env python2\n",
        "# -*- coding: utf-8 -*-\n",
        "\"\"\"\n",
        "Created on Sun Apr 29 14:02:48 2018\n",
        "\n",
        "@author: anaelle\n",
        "\"\"\"\n",
        "from __future__ import division\n",
        "\n",
        "from scipy.io import loadmat\n",
        "\n",
        "subjects_count = 10\n",
        "subjects = []\n",
        "for i in range(0, subjects_count):\n",
        "    filename = \"S\" + str(i+1) + \".mat\"\n",
        "    subjects.append(loadmat(\"drive/TFG/data/\" + filename))\n",
        "   \n",
        "subjects[0]\n",
        "\n",
        "\n",
        "# Inspect the EEG data for the first trial of the first subject:\n",
        "\n",
        "trial1 = subjects[0]['X_2D'][0]\n",
        "print(trial1.shape)\n",
        "print(trial1)\n",
        "\n",
        "get_ipython().run_line_magic('matplotlib','inline')\n",
        "\n",
        "import matplotlib.pyplot as plt\n",
        "\n",
        "N = 32\n",
        "plt.plot(trial1[:N])\n",
        "plt.title(\"EEG Reading: Electrode 1, Trial 1, Subject 1\")\n",
        "\n",
        "import numpy as np\n",
        "\n",
        "electrodes = 124\n",
        "trial_image = np.reshape(trial1, (electrodes, N))\n",
        "plt.imshow(trial_image, cmap = 'hot', interpolation = 'nearest')\n",
        "\n",
        "# ### Data Preparation\n",
        "\n",
        "# Concatenate all trials and output target labels from the first 9 test subjects\n",
        "\n",
        "trials = np.concatenate([subjects[i]['X_2D'] for i in range(9)])\n",
        "y_training = np.concatenate([subjects[i]['categoryLabels'][0] for i in range(9)])\n",
        "\n",
        "# Double-check number of trials equals number of target output labels \n",
        "\n",
        "print(len(trials),len(y_training))\n",
        "print(y_training)\n",
        "\n",
        "trials[0]\n",
        "\n",
        "len(trials[0])\n",
        "\n",
        "# ### Define Training and Validation/Holdout Sets\n",
        "\n",
        "X_training = trials\n",
        "\n",
        "holdout_fold = subjects[9]\n",
        "X_validation = holdout_fold['X_2D']\n",
        "print(len(X_validation), X_validation)\n",
        "\n",
        "y_validation = holdout_fold['categoryLabels'][0]\n",
        "print(len(y_validation),y_validation)\n",
        "np.save('drive/TFG/validation/y_val', y_validation)\n",
        "\n",
        " ## 1-Hot Encode Target Output Labels\n",
        "import tensorflow\n",
        "from tensorflow import keras\n",
        "from tensorflow.python.keras import utils \n",
        "\n",
        "\n",
        "num_classes = 6\n",
        "y_training1hot = utils.to_categorical(y_training - 1 , num_classes)\n",
        "y_validation1hot = utils.to_categorical(y_validation -1, num_classes)\n",
        "\n",
        "print y_training1hot.shape\n",
        "print y_validation1hot.shape\n",
        "\n",
        "np.save('drive/TFG/training/y_training1hot', y_training1hot)\n",
        "np.save('drive/TFG/validation/y_validation1hot', y_validation1hot)"
      ],
      "execution_count": 0,
      "outputs": []
    },
    {
      "metadata": {
        "id": "177wNJPZySCl",
        "colab_type": "code",
        "colab": {}
      },
      "cell_type": "code",
      "source": [
        "# Resize Training and Validation Sets\n",
        "\n",
        "import numpy as np\n",
        "\n",
        "X_training = np.reshape(X_training,(-1, electrodes, N,1))\n",
        "X3_training = np.repeat(X_training,3, axis=3)\n",
        "np.save('drive/TFG/training/X3_train',X3_training)\n",
        "\n",
        "X_validation = np.reshape(X_validation, (-1, electrodes, N, 1))\n",
        "X3_validation = np.repeat(X_validation, 3, axis=3)\n",
        "np.save('drive/TFG/validation/X3_val', X3_validation)\n",
        "\n",
        "print(X3_training.shape)"
      ],
      "execution_count": 0,
      "outputs": []
    }
  ]
}